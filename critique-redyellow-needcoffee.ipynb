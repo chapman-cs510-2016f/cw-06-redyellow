{
 "cells": [
  {
   "cell_type": "markdown",
   "metadata": {
    "collapsed": false
   },
   "source": [
    "# Critique from RedYellow"
   ]
  },
  {
   "cell_type": "markdown",
   "metadata": {},
   "source": [
    "**Advantage:**\n",
    "1. very good mathmatic knowledge, and implemented \"real + imaginary*1j\". \n",
    "2. have good comments;\n",
    "\n",
    "\n",
    "\n",
    "**Sugesstion:**\n",
    "1. if we use the following code in refresh() function, it will be more clear. \n",
    "    ```ruby\n",
    "    for imaginary in [self.ymax - self.ytick*i for i in range(self.ylen)]:\n",
    "\t\t\tself.plane.append([(real+1j*imaginary) for real in [self.xmin + self.xtick*i for i in range(self.xlen)]])\n",
    "    ```\n",
    "\n",
    "2. _\\_init\\_\\_() function will be called automatically, and only once when define the function. So we'd better not call it in function zoom() and set_f().\n",
    "3. It's not good to call function set_f() in zoom(), call refresh() in set_f(). Because it would be better for each function just implement on thing. \n"
   ]
  },
  {
   "cell_type": "markdown",
   "metadata": {},
   "source": [
    "# Critique of redyellow by needscoffee"
   ]
  },
  {
   "cell_type": "markdown",
   "metadata": {},
   "source": [
    "\n",
    "**Is it clear how the code is organized?**\n",
    "\n",
    "The code is very clearly organized; each function does a single, clear task\n",
    "\n",
    "**Is the code properly documented with both docstrings and supplementary comments according to industry standards?**\n",
    "\n",
    "Overall, the code is properly documented. The only thing that should be fixed is the typo: 2x2 should be 2D instead.\n",
    "\n",
    "**Can you follow the algorithm of the code, i.e., what it is doing, and how? Do you see any suggestions for how to improve the code?**\n",
    "\n",
    "The algorithm is very clear. The only thing I would add is a comment on lines 62-63 explaining why you divided by (self.xlen-1) and (self.ylen-1). Why the minus 1?"
   ]
  },
  {
   "cell_type": "code",
   "execution_count": null,
   "metadata": {
    "collapsed": true
   },
   "outputs": [],
   "source": []
  }
 ],
 "metadata": {
  "kernelspec": {
   "display_name": "Python 2 (SageMath)",
   "language": "python",
   "name": "python2"
  },
  "language_info": {
   "codemirror_mode": {
    "name": "ipython",
    "version": 2
   },
   "file_extension": ".py",
   "mimetype": "text/x-python",
   "name": "python",
   "nbconvert_exporter": "python",
   "pygments_lexer": "ipython2",
   "version": "2.7.10"
  }
 },
 "nbformat": 4,
 "nbformat_minor": 0
}
