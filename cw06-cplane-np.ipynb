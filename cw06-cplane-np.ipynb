{
 "cells": [
  {
   "cell_type": "markdown",
   "metadata": {
    "collapsed": false
   },
   "source": [
    "**Code explianation: **\n",
    "\n",
    "1. Import module, that will be used in the following code.\n",
    "```ruby\n",
    "import numpy as np\n",
    "import pandas as pd\n",
    "from abscplane import AbsComplexPlane\n",
    "```\n",
    "2. Define the class, which inherite from an abstract base class named AbsComplexPlane.\n",
    "```ruby\n",
    "class ComplexPlaneNP(AbsComplexPlane):\n",
    "```\n",
    "\n",
    "3. Define attributes and functions(methods).\n",
    "3.1 Define the __init__() function, which will initial all attributes.\n",
    "```ruby\n",
    "    def __init__(self, xmin, xmax, xlen, ymin, ymax, ylen,plane=pd.DataFrame(), f=lambda x: x):\n",
    "        self.xmin = xmin  #maximum horizontal axis value\n",
    "        self.xmax = xmax  #minimum horizontal axis value\n",
    "        self.xlen = xlen  #number of horizontal points\n",
    "        self.ymin = ymin  #maximum vertical axis value\n",
    "        self.ymax = ymax  #minimum vertical axis value\n",
    "        self.ylen = ylen  #number of vertical points\n",
    "        self.plane = plane #use DataFrame of pandas to store the complex plane\n",
    "        self.f = f  #function displayed in the plane\n",
    "```\n",
    "\n",
    "3.2 Define function refresh(), which will use the defined function(self.f) to create the plane.\n",
    "```ruby\n",
    "    def refresh(self):\n",
    "        x = np.linspace(self.xmin, self.xmax, self.xlen)  #np.linspace(start, end, total points)\n",
    "        y = np.linspace(self.ymin, self.ymax, self.ylen)\n",
    "        for row in np.arange(self.xlen):                  #np.arange(num) will produce integers from 0 to num-1, same as range()\n",
    "            self.plane[row]=pd.DataFrame({'points': self.f(x[row]+y*1j)})   \n",
    "            #pd.DataFrame({'value': v, 'index': i}), it produce a dictionary, which include indexes and values.At here I omited the index. \n",
    " \n",
    "        return 0\n",
    "```\n",
    "\n",
    "3.3 Define function zoom(), which reset the attributors and refresh the plane.\n",
    "```ruby\n",
    "    def zoom(self, xmin, xmax, xlen, ymin, ymax, ylen):\n",
    "        self.xmin = xmin\n",
    "        self.xmax = xmax\n",
    "        self.xlen = xlen\n",
    "        self.ymin = ymin\n",
    "        self.ymax = ymax\n",
    "        self.ylen = ylen\n",
    " \n",
    "        self.refresh()\n",
    "        return 0\n",
    "```\n",
    "\n",
    "3.4 Define function set_f(), which reset attribute f(it's a function) and refresh the plane.\n",
    "```ruby\n",
    "        def set_f(self,f):\n",
    "        self.f = f\n",
    "        self.refresh()\n",
    "        return 0\n",
    "```"
   ]
  },
  {
   "cell_type": "markdown",
   "metadata": {},
   "source": [
    "**Implementation:**\n",
    "\n",
    "This part I will tell how to use this code and how it works.\n",
    "\n",
    "1. import this module:"
   ]
  },
  {
   "cell_type": "code",
   "execution_count": 16,
   "metadata": {
    "collapsed": false
   },
   "outputs": [],
   "source": [
    "from cplane_np import ComplexPlaneNP;"
   ]
  },
  {
   "cell_type": "markdown",
   "metadata": {
    "collapsed": true
   },
   "source": [
    " 2.Use class ComplexPlaneNP to create an object p1, at the same time it will call function __init__() to initialize attributors:"
   ]
  },
  {
   "cell_type": "code",
   "execution_count": 13,
   "metadata": {
    "collapsed": false
   },
   "outputs": [
    {
     "name": "stdout",
     "output_type": "stream",
     "text": [
      "1 2 3 4 6 4\n"
     ]
    }
   ],
   "source": [
    "p1=ComplexPlaneNP(1,2,3,4,6,4)\n",
    "print(p1.xmin,p1.xmax,p1.xlen,p1.ymin,p1.ymax,p1.ylen)               "
   ]
  },
  {
   "cell_type": "markdown",
   "metadata": {},
   "source": [
    "  3.Call function refresh() to create plane():"
   ]
  },
  {
   "cell_type": "code",
   "execution_count": 14,
   "metadata": {
    "collapsed": false
   },
   "outputs": [
    {
     "name": "stdout",
     "output_type": "stream",
     "text": [
      "                    0                     1                   2\n",
      "0              (1+4j)              (1.5+4j)              (2+4j)\n",
      "1  (1+4.66666666667j)  (1.5+4.66666666667j)  (2+4.66666666667j)\n",
      "2  (1+5.33333333333j)  (1.5+5.33333333333j)  (2+5.33333333333j)\n",
      "3              (1+6j)              (1.5+6j)              (2+6j)\n"
     ]
    }
   ],
   "source": [
    "p1.refresh()\n",
    "print(p1.plane)"
   ]
  },
  {
   "cell_type": "markdown",
   "metadata": {},
   "source": [
    "**Compare to CW05:** \n",
    "\n",
    "\n",
    "\n",
    "In cw-05, I use list of lists to store plane.\n",
    "```ruby\n",
    "    self.plane = []\n",
    "```\n",
    "And I use two loops to create the plane:\n",
    "```ruby\n",
    "    def refresh(self):\n",
    "        self.plane = []     #clear plane\n",
    "        for y in range(0, self.ylen):\n",
    "            row = []\n",
    "            for x in range(0, self.xlen): #Produce points in each row\n",
    "                X=self.xmin+x*(self.xmax-self.xmin)/(self.xlen-1)\n",
    "                Y=self.ymin+y*(self.ymax-self.ymin)/(self.ylen-1)\n",
    "                row.append(self.f(X + Y*1j)) #append each points into a inside list\n",
    "            self.plane.append(row)           #append each inside list(row) into an outside list(plane)\n",
    " \n",
    "```\n",
    "\n",
    "After create the plane, it will be like this:\n",
    "[[(1+0j), (1.5+0j), (2+0j)], [(1+0.5j), (1.5+0.5j), (2+0.5j)], [(1+1j), (1.5+1j), (2+1j)], [(1+1.5j), (1.5+1.5j), (2+1.5j)], [(1+2j), (1.5+2j),(2+2j)], [(1+2.5j), (1.5+2.5j), (2+2.5j)], [(1+3j), (1.5+3j), (2+3j)]]\n",
    "\n",
    "**Disadvantage:**\n",
    "1. It is not clear about the x-axis and y-axis.\n",
    "2. it takes more time to execute, as it will use two loops."
   ]
  },
  {
   "cell_type": "markdown",
   "metadata": {},
   "source": [
    "**Conclusion:**\n",
    "Use numpy arrary augment with pandas DataFrame is easier to produce complex plane, and the way it display is more like a plane. "
   ]
  },
  {
   "cell_type": "markdown",
   "metadata": {},
   "source": [
    "**Explain for function Julia():**\n",
    "\n",
    "```ruby\n",
    "def julia(c,max=100):\n",
    "    '''\n",
    "    input: complex parameter c and an optional positive integer max, return a the result of function func():\n",
    "    In func(), when the absolute value of z(z=z^2+c) is greater than 2, then return 1. when it exceed max times, return 0. Otherwise, it returns the times of loop. \n",
    "    '''\n",
    "    def func(z):\n",
    "        n=0\n",
    "        if np.absolute(z)>2:\n",
    "            return 1\n",
    "        while np.absolute(z)<=2:\n",
    "            n=n+1\n",
    "            z=z**2+c\n",
    "            if n >= max:\n",
    "                n=0\n",
    "                break\n",
    "        return n\n",
    "    return func\n",
    "```"
   ]
  },
  {
   "cell_type": "markdown",
   "metadata": {},
   "source": [
    "**Implementation:**"
   ]
  },
  {
   "cell_type": "code",
   "execution_count": 5,
   "metadata": {
    "collapsed": false
   },
   "outputs": [
    {
     "name": "stdout",
     "output_type": "stream",
     "text": [
      "0\n",
      "20\n",
      "13\n",
      "10\n"
     ]
    }
   ],
   "source": [
    "from cplane_np import julia;\n",
    "\n",
    "\n",
    "f1 = julia( -1.037 + 0.17j )  ## c=-1.037 + 0.17j\n",
    "print(f1(-1.00-0.2j))     # z=-1.00-0.2j\n",
    "print(f1(-1.01 - 0.2j))   # z=-1.01 - 0.2j\n",
    "print(f1(-1.02 - 0.2j))   # z=-1.02 - 0.2j\n",
    "print(f1(-1.03 - 0.2j))   # z=-1.03 - 0.2j"
   ]
  }
 ],
 "metadata": {
  "kernelspec": {
   "display_name": "Anaconda (Python 3)",
   "language": "python",
   "name": "anaconda3"
  },
  "language_info": {
   "codemirror_mode": {
    "name": "ipython",
    "version": 3
   },
   "file_extension": ".py",
   "mimetype": "text/x-python",
   "name": "python",
   "nbconvert_exporter": "python",
   "pygments_lexer": "ipython3",
   "version": "3.5.2"
  }
 },
 "nbformat": 4,
 "nbformat_minor": 0
}
